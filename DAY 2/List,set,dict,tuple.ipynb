{
  "cells": [
    {
      "cell_type": "markdown",
      "metadata": {
        "id": "vPQ3fp3Xs0xS"
      },
      "source": [
        "#List"
      ]
    },
    {
      "cell_type": "markdown",
      "metadata": {
        "id": "T_-INMTis5VA"
      },
      "source": [
        "Managing a list of pet dictionaries"
      ]
    },
    {
      "cell_type": "code",
      "execution_count": 3,
      "metadata": {
        "colab": {
          "base_uri": "https://localhost:8080/"
        },
        "id": "NLefJ2fAtJRv",
        "outputId": "fd626909-3bb3-4920-b9c0-fc1467e60cf4"
      },
      "outputs": [
        {
          "name": "stdout",
          "output_type": "stream",
          "text": [
            "[{'name': 'Bella', 'type': 'Dog', 'age': 5}, {'name': 'Max', 'type': 'Dog', 'age': 3}, {'name': 'Luna', 'type': 'Bird', 'age': 1}]\n"
          ]
        }
      ],
      "source": [
        "pets = [\n",
        "    {\"name\": \"Bella\", \"type\": \"Dog\", \"age\": 5},\n",
        "    {\"name\": \"Charlie\", \"type\": \"Cat\", \"age\": 3},\n",
        "    {\"name\": \"Max\", \"type\": \"Dog\", \"age\": 2}\n",
        "]\n",
        "# Adding a new pet\n",
        "pets.append({\"name\": \"Luna\", \"type\": \"Bird\", \"age\": 1})\n",
        "\n",
        "# Removing a pet by name\n",
        "pets = [pet for pet in pets if pet[\"name\"] != \"Charlie\"]\n",
        "\n",
        "# Updating the age of a pet\n",
        "for pet in pets:\n",
        "    if pet[\"name\"] == \"Max\":\n",
        "        pet[\"age\"] = 3\n",
        "\n",
        "print(pets)\n"
      ]
    },
    {
      "cell_type": "markdown",
      "metadata": {
        "id": "qXw7mrCutKzb"
      },
      "source": [
        "Filtering and sorting pets based on type and age:"
      ]
    },
    {
      "cell_type": "code",
      "execution_count": 4,
      "metadata": {
        "colab": {
          "base_uri": "https://localhost:8080/"
        },
        "id": "cYo4Pu9_tOvH",
        "outputId": "b84e7810-1528-465f-ab0b-12b3d879767f"
      },
      "outputs": [
        {
          "name": "stdout",
          "output_type": "stream",
          "text": [
            "Dogs: [{'name': 'Bella', 'type': 'Dog', 'age': 5}, {'name': 'Max', 'type': 'Dog', 'age': 2}]\n",
            "Sorted pets by age: [{'name': 'Luna', 'type': 'Bird', 'age': 1}, {'name': 'Max', 'type': 'Dog', 'age': 2}, {'name': 'Rocky', 'type': 'Hamster', 'age': 2}, {'name': 'Charlie', 'type': 'Cat', 'age': 3}, {'name': 'Bella', 'type': 'Dog', 'age': 5}]\n"
          ]
        }
      ],
      "source": [
        "pets = [\n",
        "    {\"name\": \"Bella\", \"type\": \"Dog\", \"age\": 5},\n",
        "    {\"name\": \"Charlie\", \"type\": \"Cat\", \"age\": 3},\n",
        "    {\"name\": \"Max\", \"type\": \"Dog\", \"age\": 2},\n",
        "    {\"name\": \"Luna\", \"type\": \"Bird\", \"age\": 1},\n",
        "    {\"name\": \"Rocky\", \"type\": \"Hamster\", \"age\": 2}\n",
        "]\n",
        "\n",
        "# Filter pets that are dogs\n",
        "dogs = [pet for pet in pets if pet[\"type\"] == \"Dog\"]\n",
        "\n",
        "# Sort pets by age\n",
        "sorted_pets = sorted(pets, key=lambda pet: pet[\"age\"])\n",
        "\n",
        "print(\"Dogs:\", dogs)\n",
        "print(\"Sorted pets by age:\", sorted_pets)\n"
      ]
    },
    {
      "cell_type": "markdown",
      "metadata": {
        "id": "UExrU7oJtQGy"
      },
      "source": [
        "Merging and manipulating lists of pet names:"
      ]
    },
    {
      "cell_type": "code",
      "execution_count": 5,
      "metadata": {
        "colab": {
          "base_uri": "https://localhost:8080/"
        },
        "id": "yjznEXvJtUYd",
        "outputId": "82b53eb6-c551-4a0a-d977-b1fea32b2598"
      },
      "outputs": [
        {
          "name": "stdout",
          "output_type": "stream",
          "text": [
            "['Bella', 'Max', 'Luna', 'Rocky', 'Buddy']\n"
          ]
        }
      ],
      "source": [
        "dogs = [\"Bella\", \"Max\"]\n",
        "cats = [\"Charlie\"]\n",
        "birds = [\"Luna\"]\n",
        "\n",
        "# Merging lists\n",
        "all_pets = dogs + cats + birds\n",
        "\n",
        "# Adding multiple pets\n",
        "all_pets.extend([\"Rocky\", \"Buddy\"])\n",
        "\n",
        "# Removing a pet by index\n",
        "del all_pets[all_pets.index(\"Charlie\")]\n",
        "\n",
        "print(all_pets)\n"
      ]
    },
    {
      "cell_type": "markdown",
      "metadata": {
        "id": "CqC3T3HvtV_K"
      },
      "source": [
        "#Tuples"
      ]
    },
    {
      "cell_type": "markdown",
      "metadata": {
        "id": "o9MFZb0OtZuY"
      },
      "source": [
        "Creating a tuple of pet details and accessing elements:"
      ]
    },
    {
      "cell_type": "code",
      "execution_count": 6,
      "metadata": {
        "colab": {
          "base_uri": "https://localhost:8080/"
        },
        "id": "Bfg-t502tetp",
        "outputId": "02d24026-de16-4871-d809-8c5b1aacabba"
      },
      "outputs": [
        {
          "name": "stdout",
          "output_type": "stream",
          "text": [
            "Pet Name: Bella, Type: Dog, Age: 5\n"
          ]
        }
      ],
      "source": [
        "pet_details = (\"Bella\", \"Dog\", 5)\n",
        "\n",
        "# Accessing elements\n",
        "pet_name = pet_details[0]\n",
        "pet_type = pet_details[1]\n",
        "pet_age = pet_details[2]\n",
        "\n",
        "print(f\"Pet Name: {pet_name}, Type: {pet_type}, Age: {pet_age}\")\n"
      ]
    },
    {
      "cell_type": "markdown",
      "metadata": {
        "id": "DajH-hP6tgE6"
      },
      "source": [
        "Storing pet tuples in a list and processing them:"
      ]
    },
    {
      "cell_type": "code",
      "execution_count": 7,
      "metadata": {
        "colab": {
          "base_uri": "https://localhost:8080/"
        },
        "id": "dCA8nFO0tkvv",
        "outputId": "538ba342-5f21-40e2-b9f1-bdff1996b243"
      },
      "outputs": [
        {
          "name": "stdout",
          "output_type": "stream",
          "text": [
            "Average Age: 3.3333333333333335\n",
            "Dogs: [('Bella', 'Dog', 5), ('Max', 'Dog', 2)]\n"
          ]
        }
      ],
      "source": [
        "pets = [\n",
        "    (\"Bella\", \"Dog\", 5),\n",
        "    (\"Charlie\", \"Cat\", 3),\n",
        "    (\"Max\", \"Dog\", 2)\n",
        "]\n",
        "\n",
        "# Calculate average age of pets\n",
        "total_age = sum(pet[2] for pet in pets)\n",
        "average_age = total_age / len(pets)\n",
        "\n",
        "# Find all dogs\n",
        "dogs = [pet for pet in pets if pet[1] == \"Dog\"]\n",
        "\n",
        "print(f\"Average Age: {average_age}\")\n",
        "print(\"Dogs:\", dogs)\n"
      ]
    },
    {
      "cell_type": "markdown",
      "metadata": {
        "id": "wC2UiB1ntmK6"
      },
      "source": [
        "Unpacking pet tuple details:"
      ]
    },
    {
      "cell_type": "code",
      "execution_count": 8,
      "metadata": {
        "colab": {
          "base_uri": "https://localhost:8080/"
        },
        "id": "Y5M4dBCxtqEv",
        "outputId": "e44c32a1-6e06-42bc-f8ea-cda606327cdc"
      },
      "outputs": [
        {
          "name": "stdout",
          "output_type": "stream",
          "text": [
            "Pet Name: Luna, Type: Bird, Age: 1\n"
          ]
        }
      ],
      "source": [
        "pet = (\"Luna\", \"Bird\", 1)\n",
        "\n",
        "# Unpacking\n",
        "name, type_, age = pet\n",
        "\n",
        "print(f\"Pet Name: {name}, Type: {type_}, Age: {age}\")\n"
      ]
    },
    {
      "cell_type": "markdown",
      "metadata": {
        "id": "f4_dkkO9trDX"
      },
      "source": [
        "#Dictionaries"
      ]
    },
    {
      "cell_type": "markdown",
      "metadata": {
        "id": "18qJ-CN1tt5W"
      },
      "source": [
        "Managing a dictionary of pets with nested details:"
      ]
    },
    {
      "cell_type": "code",
      "execution_count": 9,
      "metadata": {
        "colab": {
          "base_uri": "https://localhost:8080/"
        },
        "id": "76xuPWIktxDP",
        "outputId": "54de897c-2b47-488b-e91f-655611203dcd"
      },
      "outputs": [
        {
          "name": "stdout",
          "output_type": "stream",
          "text": [
            "{'Bella': {'type': 'Dog', 'age': 5}, 'Max': {'type': 'Dog', 'age': 3}, 'Luna': {'type': 'Bird', 'age': 1}}\n"
          ]
        }
      ],
      "source": [
        "pets = {\n",
        "    \"Bella\": {\"type\": \"Dog\", \"age\": 5},\n",
        "    \"Charlie\": {\"type\": \"Cat\", \"age\": 3},\n",
        "    \"Max\": {\"type\": \"Dog\", \"age\": 2}\n",
        "}\n",
        "\n",
        "# Adding a new pet\n",
        "pets[\"Luna\"] = {\"type\": \"Bird\", \"age\": 1}\n",
        "\n",
        "# Updating a pet's age\n",
        "pets[\"Max\"][\"age\"] = 3\n",
        "\n",
        "# Removing a pet\n",
        "del pets[\"Charlie\"]\n",
        "\n",
        "print(pets)\n"
      ]
    },
    {
      "cell_type": "markdown",
      "metadata": {
        "id": "j5ZmjxL1tyMw"
      },
      "source": [
        "Iterating through a dictionary of pets:"
      ]
    },
    {
      "cell_type": "code",
      "execution_count": 10,
      "metadata": {
        "colab": {
          "base_uri": "https://localhost:8080/"
        },
        "id": "Z4p1u4Eat1Rl",
        "outputId": "a36d520e-175f-4dfb-eeeb-07d5c033f32c"
      },
      "outputs": [
        {
          "name": "stdout",
          "output_type": "stream",
          "text": [
            "Pet Name: Bella, Type: Dog, Age: 5\n",
            "Pet Name: Charlie, Type: Cat, Age: 3\n",
            "Pet Name: Max, Type: Dog, Age: 2\n",
            "Pet Name: Luna, Type: Bird, Age: 1\n"
          ]
        }
      ],
      "source": [
        "pets = {\n",
        "    \"Bella\": {\"type\": \"Dog\", \"age\": 5},\n",
        "    \"Charlie\": {\"type\": \"Cat\", \"age\": 3},\n",
        "    \"Max\": {\"type\": \"Dog\", \"age\": 2},\n",
        "    \"Luna\": {\"type\": \"Bird\", \"age\": 1}\n",
        "}\n",
        "\n",
        "# Printing pet details\n",
        "for name, details in pets.items():\n",
        "    print(f\"Pet Name: {name}, Type: {details['type']}, Age: {details['age']}\")\n"
      ]
    },
    {
      "cell_type": "markdown",
      "metadata": {
        "id": "GJRqHLmkt4a4"
      },
      "source": [
        "Finding pets by type in a dictionary:"
      ]
    },
    {
      "cell_type": "code",
      "execution_count": 11,
      "metadata": {
        "colab": {
          "base_uri": "https://localhost:8080/"
        },
        "id": "tYH6ZFzUt7Br",
        "outputId": "6c75c172-da13-4d31-e746-9d290b0de801"
      },
      "outputs": [
        {
          "name": "stdout",
          "output_type": "stream",
          "text": [
            "Cats: {'Charlie': {'type': 'Cat', 'age': 3}}\n"
          ]
        }
      ],
      "source": [
        "pets = {\n",
        "    \"Bella\": {\"type\": \"Dog\", \"age\": 5},\n",
        "    \"Charlie\": {\"type\": \"Cat\", \"age\": 3},\n",
        "    \"Max\": {\"type\": \"Dog\", \"age\": 2},\n",
        "    \"Luna\": {\"type\": \"Bird\", \"age\": 1}\n",
        "}\n",
        "\n",
        "# Find all cats\n",
        "cats = {name: details for name, details in pets.items() if details[\"type\"] == \"Cat\"}\n",
        "\n",
        "print(\"Cats:\", cats)\n"
      ]
    },
    {
      "cell_type": "markdown",
      "metadata": {
        "id": "yVXgAkUkt8KO"
      },
      "source": [
        "#Sets"
      ]
    },
    {
      "cell_type": "markdown",
      "metadata": {
        "id": "xSwayrp3uAA5"
      },
      "source": [
        "Creating and manipulating sets of pet names:"
      ]
    },
    {
      "cell_type": "code",
      "execution_count": 12,
      "metadata": {
        "colab": {
          "base_uri": "https://localhost:8080/"
        },
        "id": "Ex_Fdi-HuDQH",
        "outputId": "3c6a6fcd-d9ce-4366-c91a-1d8d4d730bd9"
      },
      "outputs": [
        {
          "name": "stdout",
          "output_type": "stream",
          "text": [
            "Pet Names: {'Luna', 'Bella', 'Max', 'Rocky'}\n",
            "Is 'Bella' present? True\n"
          ]
        }
      ],
      "source": [
        "pet_names = {\"Bella\", \"Charlie\", \"Max\", \"Luna\"}\n",
        "\n",
        "# Adding a pet name\n",
        "pet_names.add(\"Rocky\")\n",
        "\n",
        "# Removing a pet name\n",
        "pet_names.discard(\"Charlie\")\n",
        "\n",
        "# Checking membership\n",
        "is_present = \"Bella\" in pet_names\n",
        "\n",
        "print(\"Pet Names:\", pet_names)\n",
        "print(\"Is 'Bella' present?\", is_present)\n"
      ]
    },
    {
      "cell_type": "markdown",
      "metadata": {
        "id": "rlW9XdrHuEil"
      },
      "source": [
        "Set operations with pet names:"
      ]
    },
    {
      "cell_type": "code",
      "execution_count": 13,
      "metadata": {
        "colab": {
          "base_uri": "https://localhost:8080/"
        },
        "id": "WNjNpcVpuJ8W",
        "outputId": "cf271b7a-5fe7-4b9a-c4f6-5863f2477e8b"
      },
      "outputs": [
        {
          "name": "stdout",
          "output_type": "stream",
          "text": [
            "All Pets: {'Rocky', 'Buddy', 'Luna', 'Bella', 'Max'}\n",
            "Common Pets: {'Rocky'}\n",
            "Unique Pets in House 1: {'Max', 'Bella'}\n"
          ]
        }
      ],
      "source": [
        "pets_in_house_1 = {\"Bella\", \"Max\", \"Rocky\"}\n",
        "pets_in_house_2 = {\"Luna\", \"Rocky\", \"Buddy\"}\n",
        "\n",
        "# Union of two sets\n",
        "all_pets = pets_in_house_1 | pets_in_house_2\n",
        "\n",
        "# Intersection of two sets\n",
        "common_pets = pets_in_house_1 & pets_in_house_2\n",
        "\n",
        "# Difference between two sets\n",
        "unique_pets_house_1 = pets_in_house_1 - pets_in_house_2\n",
        "\n",
        "print(\"All Pets:\", all_pets)\n",
        "print(\"Common Pets:\", common_pets)\n",
        "print(\"Unique Pets in House 1:\", unique_pets_house_1)\n"
      ]
    },
    {
      "cell_type": "markdown",
      "metadata": {
        "id": "wSuyD2WBuLAC"
      },
      "source": [
        "Finding pets only in one house (symmetric difference):"
      ]
    },
    {
      "cell_type": "code",
      "execution_count": 14,
      "metadata": {
        "colab": {
          "base_uri": "https://localhost:8080/"
        },
        "id": "ubKHX6lRuNxK",
        "outputId": "ce0caacf-3b1b-4d16-df56-bc8178216108"
      },
      "outputs": [
        {
          "name": "stdout",
          "output_type": "stream",
          "text": [
            "Unique Pets (only in one house): {'Buddy', 'Luna', 'Bella', 'Max'}\n"
          ]
        }
      ],
      "source": [
        "pets_in_house_1 = {\"Bella\", \"Max\", \"Rocky\"}\n",
        "pets_in_house_2 = {\"Luna\", \"Rocky\", \"Buddy\"}\n",
        "\n",
        "# Symmetric difference\n",
        "unique_pets = pets_in_house_1 ^ pets_in_house_2\n",
        "\n",
        "print(\"Unique Pets (only in one house):\", unique_pets)\n"
      ]
    },
    {
      "cell_type": "code",
      "execution_count": null,
      "metadata": {
        "id": "SLh23esduPdn"
      },
      "outputs": [],
      "source": []
    }
  ],
  "metadata": {
    "colab": {
      "provenance": []
    },
    "kernelspec": {
      "display_name": "Python 3",
      "name": "python3"
    },
    "language_info": {
      "name": "python"
    }
  },
  "nbformat": 4,
  "nbformat_minor": 0
}
